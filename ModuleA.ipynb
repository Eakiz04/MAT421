{
  "nbformat": 4,
  "nbformat_minor": 0,
  "metadata": {
    "colab": {
      "provenance": [],
      "authorship_tag": "ABX9TyPz1+lTrNEuaoDrocGiZ/AR",
      "include_colab_link": true
    },
    "kernelspec": {
      "name": "python3",
      "display_name": "Python 3"
    },
    "language_info": {
      "name": "python"
    }
  },
  "cells": [
    {
      "cell_type": "markdown",
      "metadata": {
        "id": "view-in-github",
        "colab_type": "text"
      },
      "source": [
        "<a href=\"https://colab.research.google.com/github/Eakiz04/MAT421/blob/main/ModuleA.ipynb\" target=\"_parent\"><img src=\"https://colab.research.google.com/assets/colab-badge.svg\" alt=\"Open In Colab\"/></a>"
      ]
    },
    {
      "cell_type": "markdown",
      "source": [
        "Module A - Eric Kizior"
      ],
      "metadata": {
        "id": "TlIbUTb-rhnv"
      }
    },
    {
      "cell_type": "markdown",
      "source": [
        "9.1 Base-N and Binary:\n",
        "*   **Base-N** number systems are numerical systems that use **N** digits to represent the system, ranging from 0 to N-1.\n",
        "*   A **Decimal System** represents a list numbers from 0-9 where each digit represents the coefficient power of 10. This is also reffered to as a **Base 10** system.\n",
        "*   Computers primarily use a **Base 2** system, which denotes binary numbers. Each digit is 0 or 1, each digit has a coefficient power of 2, and each digit in binary is reffered to as a **bit**\n",
        "\n",
        "\n"
      ],
      "metadata": {
        "id": "kZ-pU77Fvkkw"
      }
    },
    {
      "cell_type": "code",
      "source": [
        "# Base 10 example: (348 base 10)\n",
        "348 == (3*10**2) + (4*10**1) + (8*10**0)"
      ],
      "metadata": {
        "colab": {
          "base_uri": "https://localhost:8080/"
        },
        "id": "JhIYLJoY0sHl",
        "outputId": "e332b5a6-82ac-43ea-8526-171c6889159e"
      },
      "execution_count": null,
      "outputs": [
        {
          "output_type": "execute_result",
          "data": {
            "text/plain": [
              "True"
            ]
          },
          "metadata": {},
          "execution_count": 1
        }
      ]
    },
    {
      "cell_type": "code",
      "source": [
        "# Base 10 to Base 3 Converion example: (19 base 10) == (201 base 3)\n",
        "19 == (2*3**2) + (0*3**1) + (1*3**0)"
      ],
      "metadata": {
        "colab": {
          "base_uri": "https://localhost:8080/"
        },
        "id": "IEeY5vsm1NUm",
        "outputId": "030e2dd2-d6d7-4ef7-f52b-5432c7c22880"
      },
      "execution_count": null,
      "outputs": [
        {
          "output_type": "execute_result",
          "data": {
            "text/plain": [
              "True"
            ]
          },
          "metadata": {},
          "execution_count": 6
        }
      ]
    },
    {
      "cell_type": "code",
      "source": [
        "# Base 2 (Binary) example: (10 base 10) == (1010 base 2)\n",
        "10 == (1*2**3) + (0*2**2) + (1*2**1) + (0*2**0)"
      ],
      "metadata": {
        "colab": {
          "base_uri": "https://localhost:8080/"
        },
        "id": "DPdEKssU3Zv4",
        "outputId": "da2f2abb-9c36-4a2f-fd73-2fa5ae7d2944"
      },
      "execution_count": null,
      "outputs": [
        {
          "output_type": "execute_result",
          "data": {
            "text/plain": [
              "True"
            ]
          },
          "metadata": {},
          "execution_count": 8
        }
      ]
    },
    {
      "cell_type": "markdown",
      "source": [
        "\n",
        "\n",
        "*   Like the decimal system, all Base-N systems are able to perform the same calculations such as addition or multiplication\n",
        "\n"
      ],
      "metadata": {
        "id": "FntEhx5M_oXW"
      }
    },
    {
      "cell_type": "code",
      "source": [
        "# Binary addition example: (1001 base 2) + (0110 base 2) == (1111 base 2) == (15 base 10)\n",
        "(1*2**3) + (1*2**0) + (1*2**2) + (1*2**1) == 15"
      ],
      "metadata": {
        "colab": {
          "base_uri": "https://localhost:8080/"
        },
        "id": "EAckk2FeAOQ8",
        "outputId": "a454db28-e4a8-408b-ff75-4d22bd48a03c"
      },
      "execution_count": null,
      "outputs": [
        {
          "output_type": "execute_result",
          "data": {
            "text/plain": [
              "True"
            ]
          },
          "metadata": {},
          "execution_count": 11
        }
      ]
    },
    {
      "cell_type": "code",
      "source": [
        "# Binary multiplication example: (1001 base 2) * (0110 base 2) == (110110 base 2) == (54 base 10)\n",
        "((1*2**3) + (1*2**0)) * ((1*2**2) + (1*2**1)) == (1*2**5) + (1*2**4) + (1*2**2) + (1*2**1) == 54"
      ],
      "metadata": {
        "colab": {
          "base_uri": "https://localhost:8080/"
        },
        "id": "8UIwhuziA9xz",
        "outputId": "8bc88b24-954a-40e8-b906-79226b037ac8"
      },
      "execution_count": null,
      "outputs": [
        {
          "output_type": "execute_result",
          "data": {
            "text/plain": [
              "True"
            ]
          },
          "metadata": {},
          "execution_count": 12
        }
      ]
    },
    {
      "cell_type": "markdown",
      "source": [
        "9.2 Floating Point Numbers\n",
        "*   Computers can only store a fixed number of bits (32-64)\n",
        "*   Using binary numbers can result an insufficient range of digits for larger calculations\n",
        "*   **Floating Point** numbers are a combination of three attributes of numbers: the **sign** (positive or negative), the **exponent** (power of 2), and the **fraction** (coefficient of the exponent)\n",
        "*   For Python, most floats are **IEEE754** double precision (64 bits)\n",
        "*   For a 64 bit floating point, 1 bit is allocated for the sign, 11 bits allocated for the exponent, and 52 bits allocated for the fraction. This means the largest representable value is 2048.\n",
        "*   Floating Points can be represented with the following equation:\n",
        "\n",
        "    n = (-1)^s * (2^(e - 1023)) * (1 + f)"
      ],
      "metadata": {
        "id": "44gBD5qvB5ir"
      }
    },
    {
      "cell_type": "code",
      "source": [
        "# How to get floating point information:\n",
        "import sys\n",
        "sys.float_info"
      ],
      "metadata": {
        "colab": {
          "base_uri": "https://localhost:8080/"
        },
        "id": "UxmVgyQWGDKv",
        "outputId": "531a1ec7-2a30-43d3-ef25-443fb3d617ce"
      },
      "execution_count": null,
      "outputs": [
        {
          "output_type": "execute_result",
          "data": {
            "text/plain": [
              "sys.float_info(max=1.7976931348623157e+308, max_exp=1024, max_10_exp=308, min=2.2250738585072014e-308, min_exp=-1021, min_10_exp=-307, dig=15, mant_dig=53, epsilon=2.220446049250313e-16, radix=2, rounds=1)"
            ]
          },
          "metadata": {},
          "execution_count": 14
        }
      ]
    },
    {
      "cell_type": "code",
      "source": [
        "# IEEE754 Floating point example 1: (-50)\n",
        "# 1 10000000100 1001000000000000000000000000000000000000000000000000\n",
        "# Sign bit: 1, Exponent: 10000000100, Fraction: 1.1001000000000000000000000000000000000000000000000000\n",
        "(-1)**1 * (2**((1*2**10 + 1*2**2) - 1023)) * (1 + 1*2**-1 + 1*2**-4) == -50"
      ],
      "metadata": {
        "colab": {
          "base_uri": "https://localhost:8080/"
        },
        "id": "H5LhdVP4EgCy",
        "outputId": "e1fe52cb-7309-47d9-f2a0-9281d01ac5ed"
      },
      "execution_count": null,
      "outputs": [
        {
          "output_type": "execute_result",
          "data": {
            "text/plain": [
              "True"
            ]
          },
          "metadata": {},
          "execution_count": 13
        }
      ]
    },
    {
      "cell_type": "markdown",
      "source": [
        "\n",
        "\n",
        "*   Note that the fraction binary value represents the decimal values following an implicit leading 1. The full value is also reffered to as the **Mantissa**\n",
        "\n"
      ],
      "metadata": {
        "id": "vM7aAZHtGYSb"
      }
    },
    {
      "cell_type": "code",
      "source": [
        "# IEEE754 Floating point example 2: (10)\n",
        "# 0 10000000010 0100000000000000000000000000000000000000000000000000\n",
        "# Sign bit: 0, Exponent: 10000000010, Fraction: 1.0100000000000000000000000000000000000000000000000000\n",
        "(-1)**0 * (2**((1*2**10 + 1*2**1) - 1023)) * (1 + 1*2**-2) == 10"
      ],
      "metadata": {
        "colab": {
          "base_uri": "https://localhost:8080/"
        },
        "id": "1vxqDrYiGPnm",
        "outputId": "d3f9276d-3b85-443c-8e3d-812f574da9a3"
      },
      "execution_count": null,
      "outputs": [
        {
          "output_type": "execute_result",
          "data": {
            "text/plain": [
              "True"
            ]
          },
          "metadata": {},
          "execution_count": 15
        }
      ]
    },
    {
      "cell_type": "markdown",
      "source": [
        "\n",
        "\n",
        "*   Due to floating points having a finite number of bits to represent values, floating points suffer issues of precision leading to **gaps** where certain values cannot be represented.\n",
        "*   Values that cannot be represented are instead represented by an approximation to the nearest representable value\n",
        "*   As numbers increase, the size of the gaps between floating-point values also increases. This is due to the exponent and fraction combining together to represent those larger numbers. As the exponent increases, the range of representable numbers grows exponentially, and because the fraction has limited binary numbers for representation, suffers precision when representing larger values. This results in larger gaps, as the fraction can no longer represent small increments between larger values.\n",
        "\n"
      ],
      "metadata": {
        "id": "0wuYksPRH6ZE"
      }
    },
    {
      "cell_type": "code",
      "source": [
        "# Determining Gap example: (1e11)\n",
        "import numpy as np\n",
        "np.spacing(1e11)"
      ],
      "metadata": {
        "colab": {
          "base_uri": "https://localhost:8080/"
        },
        "id": "kQVPlWa2MR60",
        "outputId": "99b36ad3-60f8-42d8-ba1d-bc008a4b4f3d"
      },
      "execution_count": null,
      "outputs": [
        {
          "output_type": "execute_result",
          "data": {
            "text/plain": [
              "1.52587890625e-05"
            ]
          },
          "metadata": {},
          "execution_count": 17
        }
      ]
    },
    {
      "cell_type": "code",
      "source": [
        "# Verify adding any number less than half the gap results in the same value\n",
        "1e11 == (1e11 + np.spacing(1e11)/3)"
      ],
      "metadata": {
        "colab": {
          "base_uri": "https://localhost:8080/"
        },
        "id": "XJjuI5ykNCdV",
        "outputId": "92232988-e28c-493a-cc93-8258cc2b4414"
      },
      "execution_count": null,
      "outputs": [
        {
          "output_type": "execute_result",
          "data": {
            "text/plain": [
              "True"
            ]
          },
          "metadata": {},
          "execution_count": 18
        }
      ]
    },
    {
      "cell_type": "markdown",
      "source": [
        "\n",
        "\n",
        "*   Numbers that are larger than the largest representable floating point number result in **overflow**. Python handles this by assigning the result to *inf*.\n",
        "*   Numbers that are smaller than the smallest subnormal number result in **underflow**. Python handles this by assigning the result to *0*.\n",
        "\n",
        "\n"
      ],
      "metadata": {
        "id": "VbBjVwjJNa8p"
      }
    },
    {
      "cell_type": "code",
      "source": [
        "# Overflow Example\n",
        "sys.float_info.max + sys.float_info.max"
      ],
      "metadata": {
        "colab": {
          "base_uri": "https://localhost:8080/"
        },
        "id": "-r6elj90N0cp",
        "outputId": "f67e46e2-bba0-41a8-9c50-475e5b8008a8"
      },
      "execution_count": 19,
      "outputs": [
        {
          "output_type": "execute_result",
          "data": {
            "text/plain": [
              "inf"
            ]
          },
          "metadata": {},
          "execution_count": 19
        }
      ]
    },
    {
      "cell_type": "code",
      "source": [
        "# Underflow Example ()\n",
        "2**(-1075) == 0"
      ],
      "metadata": {
        "colab": {
          "base_uri": "https://localhost:8080/"
        },
        "id": "ddwNETAZN-7f",
        "outputId": "21224419-862c-4153-c445-19a4a034bd25"
      },
      "execution_count": 26,
      "outputs": [
        {
          "output_type": "execute_result",
          "data": {
            "text/plain": [
              "True"
            ]
          },
          "metadata": {},
          "execution_count": 26
        }
      ]
    },
    {
      "cell_type": "markdown",
      "source": [
        "9.3 Round-Off Errors\n",
        "*   The difference between an approximation of a number used in computation and its true value is called **round-off error**\n",
        "*   The most common form round-off error is the **representation error** in the floating point numbers, such as representing π\n",
        "\n"
      ],
      "metadata": {
        "id": "XzWUYOu6OtLv"
      }
    },
    {
      "cell_type": "code",
      "source": [
        "# Round-off Error example 1: (10.5-10.495)\n",
        "print(10.5-10.495)\n",
        "10.5-10.495 == 0.005"
      ],
      "metadata": {
        "colab": {
          "base_uri": "https://localhost:8080/"
        },
        "id": "9ZatJC_NUcW-",
        "outputId": "0a15f5a0-5751-4311-9bef-00e46251ce25"
      },
      "execution_count": 28,
      "outputs": [
        {
          "output_type": "stream",
          "name": "stdout",
          "text": [
            "0.005000000000000782\n"
          ]
        },
        {
          "output_type": "execute_result",
          "data": {
            "text/plain": [
              "False"
            ]
          },
          "metadata": {},
          "execution_count": 28
        }
      ]
    },
    {
      "cell_type": "code",
      "source": [
        "# Round-off Error example 2: (0.5 + 0.6 + 0.7 + 0.1)\n",
        "print(0.5 + 0.6 + 0.7 + 0.1)\n",
        "0.5 + 0.6 + 0.7 + 0.1 == 1.9"
      ],
      "metadata": {
        "colab": {
          "base_uri": "https://localhost:8080/"
        },
        "id": "t5-WcpNqU-c6",
        "outputId": "8f0c0352-f15a-4436-97e8-02b2dfcc8780"
      },
      "execution_count": 31,
      "outputs": [
        {
          "output_type": "stream",
          "name": "stdout",
          "text": [
            "1.9000000000000001\n"
          ]
        },
        {
          "output_type": "execute_result",
          "data": {
            "text/plain": [
              "False"
            ]
          },
          "metadata": {},
          "execution_count": 31
        }
      ]
    },
    {
      "cell_type": "markdown",
      "source": [
        "\n",
        "\n",
        "*   Round-off error can be mitigated by using the round() function\n"
      ],
      "metadata": {
        "id": "sFWHHcYXVXv6"
      }
    },
    {
      "cell_type": "code",
      "source": [
        "# Round-off Error example 3: (0.5 + 0.6 + 0.7 + 0.1) == round(1.9,5)\n",
        "print(0.5 + 0.6 + 0.7 + 0.1)\n",
        "round(0.5 + 0.6 + 0.7 + 0.1, 5) == 1.9"
      ],
      "metadata": {
        "colab": {
          "base_uri": "https://localhost:8080/"
        },
        "id": "qRNFeL4cVkBp",
        "outputId": "05e0dc2a-eefb-4e45-d666-6b700bcf5f3c"
      },
      "execution_count": 32,
      "outputs": [
        {
          "output_type": "stream",
          "name": "stdout",
          "text": [
            "1.9000000000000001\n"
          ]
        },
        {
          "output_type": "execute_result",
          "data": {
            "text/plain": [
              "True"
            ]
          },
          "metadata": {},
          "execution_count": 32
        }
      ]
    },
    {
      "cell_type": "markdown",
      "source": [
        "\n",
        "\n",
        "*   Round-off error is accumulated as calculations involving round-off errors continue\n",
        "\n"
      ],
      "metadata": {
        "id": "2RIGWQRuV666"
      }
    },
    {
      "cell_type": "code",
      "source": [
        "# Accumulated round-off error example:\n",
        "# Single operation:\n",
        "result = 1 + 1/5 - 1/5\n",
        "print(result)\n",
        "\n",
        "# 100 operations:\n",
        "def add_and_subtract(iterations):\n",
        "    result = 1\n",
        "\n",
        "    for i in range(iterations):\n",
        "        result += 1/5\n",
        "\n",
        "    for i in range(iterations):\n",
        "        result -= 1/5\n",
        "    return result\n",
        "print(add_and_subtract(10))\n",
        "print(add_and_subtract(100))\n",
        "print(add_and_subtract(1000))\n",
        "print(add_and_subtract(10000))"
      ],
      "metadata": {
        "colab": {
          "base_uri": "https://localhost:8080/"
        },
        "id": "Wgg4rAmgWViC",
        "outputId": "9c093564-19cf-4d61-a861-e42702f2b489"
      },
      "execution_count": 43,
      "outputs": [
        {
          "output_type": "stream",
          "name": "stdout",
          "text": [
            "1.0\n",
            "1.0\n",
            "0.9999999999999987\n",
            "0.9999999999999987\n",
            "0.9999999999999125\n"
          ]
        }
      ]
    },
    {
      "cell_type": "markdown",
      "source": [
        "Note: This example shows that the accumulation of error is small enough that for 10 iterations the result is still accurate, but as the number of iterations increases, we begin seeing greater and greater error begin to build up"
      ],
      "metadata": {
        "id": "FMXsiBnNYBGu"
      }
    }
  ]
}