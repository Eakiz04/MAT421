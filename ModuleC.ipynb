{
  "nbformat": 4,
  "nbformat_minor": 0,
  "metadata": {
    "colab": {
      "provenance": [],
      "authorship_tag": "ABX9TyPfeqGItzzMYzkwxRhK7Bh3",
      "include_colab_link": true
    },
    "kernelspec": {
      "name": "python3",
      "display_name": "Python 3"
    },
    "language_info": {
      "name": "python"
    }
  },
  "cells": [
    {
      "cell_type": "markdown",
      "metadata": {
        "id": "view-in-github",
        "colab_type": "text"
      },
      "source": [
        "<a href=\"https://colab.research.google.com/github/Eakiz04/MAT421/blob/main/ModuleC.ipynb\" target=\"_parent\"><img src=\"https://colab.research.google.com/assets/colab-badge.svg\" alt=\"Open In Colab\"/></a>"
      ]
    },
    {
      "cell_type": "markdown",
      "source": [
        "Module C - Eric Kizior"
      ],
      "metadata": {
        "id": "Idv3qxQJvJHo"
      }
    },
    {
      "cell_type": "markdown",
      "source": [
        "19.1 Root Finding Problem Statement\n",
        "*   The root or zero of a function, $f(x)$, is an $x_r$ such that $f(x_r)=0$\n",
        "*   For difficult cases where exact solutions of roots are not clear, it is better to generate numerical approximations of the roots of $f$ and understand the limitations in doing so.\n",
        "\n"
      ],
      "metadata": {
        "id": "Q3_ayWZkvKhS"
      }
    },
    {
      "cell_type": "markdown",
      "source": [
        "Example (1) Compute the root of $f(x)=e^x - 5x^2 + 3cos(x)$ near 0"
      ],
      "metadata": {
        "id": "V9rD1_XZxImO"
      }
    },
    {
      "cell_type": "code",
      "source": [
        "import numpy as np\n",
        "from scipy import optimize\n",
        "\n",
        "f = lambda x: np.exp(x) - 5*x**2 + 3*np.cos(x)\n",
        "r, infodict, ier, mesg = optimize.fsolve(f, 0, full_output=True)\n",
        "print(\"r =\", r)\n",
        "\n",
        "# Verify the solution is a root\n",
        "result = f(r)\n",
        "print(\"result=\", result)"
      ],
      "metadata": {
        "colab": {
          "base_uri": "https://localhost:8080/"
        },
        "id": "WnACeUK7wcNo",
        "outputId": "ef126571-1ddd-49ef-fb2d-0b5d01903d91"
      },
      "execution_count": 18,
      "outputs": [
        {
          "output_type": "stream",
          "name": "stdout",
          "text": [
            "r = [-0.73539343]\n",
            "result= [0.]\n"
          ]
        }
      ]
    },
    {
      "cell_type": "markdown",
      "source": [
        "Example (2) Compute the root of $f(x) = x^2+1$ near 0. (This has no real roots and should return an error message)\n",
        "\n"
      ],
      "metadata": {
        "id": "xcNM2AMlzB9J"
      }
    },
    {
      "cell_type": "code",
      "source": [
        "import numpy as np\n",
        "from scipy import optimize\n",
        "\n",
        "f = lambda x: x**2 + 1\n",
        "r, infodict, ier, mesg = optimize.fsolve(f, 1, full_output=True)\n",
        "print(\"r =\", r)\n",
        "\n",
        "# Verify the solution is a root\n",
        "result = f(r)\n",
        "print(\"result=\", result)\n",
        "\n",
        "# Print error message\n",
        "print(mesg)"
      ],
      "metadata": {
        "colab": {
          "base_uri": "https://localhost:8080/"
        },
        "id": "ajzuhCBD0QDb",
        "outputId": "972319b9-766d-4759-8aad-30de351d2361"
      },
      "execution_count": 38,
      "outputs": [
        {
          "output_type": "stream",
          "name": "stdout",
          "text": [
            "r = [-2.18114415e-12]\n",
            "result= [1.]\n",
            "The iteration is not making good progress, as measured by the \n",
            "  improvement from the last ten iterations.\n"
          ]
        }
      ]
    },
    {
      "cell_type": "markdown",
      "source": [
        "19.2 Tolerance\n",
        "*   **Error** is a deviation from an expected or computed value\n",
        "*   **Tolerance** is the level of error that is acceptable\n",
        "*   A computer program has **converged** to a solution when it has found a solution with an error smaller than the tolerance\n",
        "*   It is important to establish both a metric for error and a tolerance that is suitable for a given application\n",
        "*   2 possible choices to measure error when computing roots.\n",
        "  1. $|f(x)|$ since the smaller the error, the likelier we are to a root\n",
        "  2. $|x_{i+1}-x_i|$ we assume that $x_i$ is the $i$th guess of an algorithm for finding a root is another possible choice for measuring error, since we expect the improvements between subsequent guesses to diminish as it approaches a solution.\n",
        "\n"
      ],
      "metadata": {
        "id": "7cO2bnAm1osM"
      }
    },
    {
      "cell_type": "markdown",
      "source": [
        "Example (1) Let error be measured by $e=|f(x)|$ and tol$=e^{-6}$ be the acceptable level of error. The function $f(x)=x^2+\\frac{tol}{2}$ has no real roots."
      ],
      "metadata": {
        "id": "XKvitsclAsai"
      }
    },
    {
      "cell_type": "code",
      "source": [
        "import numpy as np\n",
        "from scipy import optimize\n",
        "\n",
        "tol = 1e-6\n",
        "\n",
        "f= lambda x: x**2 + tol/2\n",
        "r, infodict, ier, mesg = optimize.fsolve(f, 0, full_output=True)\n",
        "\n",
        "error = np.abs(f(0))\n",
        "\n",
        "# Verify the solution is a root\n",
        "print(\"r=\", r)\n",
        "print(\"results=\", f(r))\n",
        "print(\"Tolerance=\", tol)\n",
        "error < tol"
      ],
      "metadata": {
        "colab": {
          "base_uri": "https://localhost:8080/"
        },
        "id": "CT_gub6w4xR1",
        "outputId": "32e90722-b117-46b8-91f4-73c89810285b"
      },
      "execution_count": 51,
      "outputs": [
        {
          "output_type": "stream",
          "name": "stdout",
          "text": [
            "r= [0.]\n",
            "results= [5.e-07]\n",
            "Tolerance= 1e-06\n"
          ]
        },
        {
          "output_type": "execute_result",
          "data": {
            "text/plain": [
              "True"
            ]
          },
          "metadata": {},
          "execution_count": 51
        }
      ]
    },
    {
      "cell_type": "markdown",
      "source": [
        "\n",
        "Example (2) Let error be measured by $e=|x_{i+1}-x_i|$ and tol$=e^{-6}$ be the acceptable level of error. The function $f(x)=\\frac{1}{x}$ has no real roots."
      ],
      "metadata": {
        "id": "UTXg23DaBwIb"
      }
    },
    {
      "cell_type": "code",
      "source": [
        "# Case 2: f(x) = 1/x, no real roots, acceptable error with xi = -tol/4 and xi+1 = tol/4\n",
        "\n",
        "tol = 1e-6\n",
        "\n",
        "f = lambda x: 1/x\n",
        "\n",
        "xi = -tol / 4\n",
        "xi_1 = tol / 4\n",
        "\n",
        "r, infodict, ier, mesg = optimize.fsolve(f, np.array([xi, xi_1]), full_output=True)\n",
        "\n",
        "# Compute the error e = |xi+1 - xi|\n",
        "error = abs(xi_1 - xi)\n",
        "\n",
        "print(\"r=\", r)\n",
        "print(\"results=\", f(r))\n",
        "print(\"Tolerance=\", tol)\n",
        "error < tol"
      ],
      "metadata": {
        "colab": {
          "base_uri": "https://localhost:8080/"
        },
        "id": "SEyU8l3h8OlX",
        "outputId": "ba18a93f-c871-445c-ab45-2cea3c2dbf79"
      },
      "execution_count": 56,
      "outputs": [
        {
          "output_type": "stream",
          "name": "stdout",
          "text": [
            "r= [-1.32893931e+105  1.32893932e+105]\n",
            "results= [-7.52479812e-106  7.52479802e-106]\n",
            "Tolerance= 1e-06\n"
          ]
        },
        {
          "output_type": "execute_result",
          "data": {
            "text/plain": [
              "True"
            ]
          },
          "metadata": {},
          "execution_count": 56
        }
      ]
    },
    {
      "cell_type": "markdown",
      "source": [
        "19.3 Bisection Method\n",
        "*    **Intermediate Value Theorem** says that if $f(x)$ is a continuous function between $a$ and $b$, and $sign(f(a))≠sign(f(b))$, then there must be a $c$, such that $a < c < b$ and $f(c)=0$\n",
        "*    **Bisection method** uses the intermediate value theorem iteratively to find roots.\n",
        "*   Let $f(x)$ be a continuous function, and $a$ and $b$ be real scalar values such that $a < b$. Assume that $f(a)>0$ and $f(b) < 0$. Then by the intermediate value theorem, there must be a root on the open interval $(a,b)$. Now let $m=\\frac{b+a}{2}$, the midpoint between and $a$ and $b$. If $f(m)=0$ or is close, then $m$ is a root. If $f(m)>0$, then $m$ is an improvement on the left bound, $a$, and there is guaranteed to be a root on the open interval $(m,b)$. If $f(m) < 0$, then $m$ is an improvement on the right bound, $b$, and there is guaranteed to be a root on the open interval $(a,m)$\n",
        "\n"
      ],
      "metadata": {
        "id": "AG74YD7WByhj"
      }
    },
    {
      "cell_type": "markdown",
      "source": [
        "Approximate the computed root of function $f(x)=x^2-10$ to a tolerance of $|f(x)| < 0.1$ and $|f(x)| < 0.01$. Verify that the results are close."
      ],
      "metadata": {
        "id": "umHyl2z0GJ6f"
      }
    },
    {
      "cell_type": "code",
      "source": [
        "import numpy as np\n",
        "\n",
        "def my_bisection(f, a, b, tol):\n",
        "    # approximates a root, R, of f bounded\n",
        "    # by a and b to within tolerance\n",
        "    # | f(m) | < tol with m the midpoint\n",
        "    # between a and b Recursive implementation\n",
        "\n",
        "    # check if a and b bound a root\n",
        "    if np.sign(f(a)) == np.sign(f(b)):\n",
        "        raise Exception(\n",
        "         \"The scalars a and b do not bound a root\")\n",
        "\n",
        "    # get midpoint\n",
        "    m = (a + b)/2\n",
        "\n",
        "    if np.abs(f(m)) < tol:\n",
        "        # stopping condition, report m as root\n",
        "        return m\n",
        "    elif np.sign(f(a)) == np.sign(f(m)):\n",
        "        # case where m is an improvement on a.\n",
        "        # Make recursive call with a = m\n",
        "        return my_bisection(f, m, b, tol)\n",
        "    elif np.sign(f(b)) == np.sign(f(m)):\n",
        "        # case where m is an improvement on b.\n",
        "        # Make recursive call with b = m\n",
        "        return my_bisection(f, a, m, tol)\n",
        "\n",
        "f = lambda x: x**2 - 10\n",
        "\n",
        "r1 = my_bisection(f, 0, 5, 0.1)\n",
        "print(\"r1 =\", r1)\n",
        "r01 = my_bisection(f, 0, 5, 0.01)\n",
        "print(\"r01 =\", r01)\n",
        "\n",
        "print(\"f(r1) =\", f(r1))\n",
        "print(\"f(r01) =\", f(r01))"
      ],
      "metadata": {
        "colab": {
          "base_uri": "https://localhost:8080/"
        },
        "id": "vuObiSaLE_Oq",
        "outputId": "fe63b9e3-4b3e-4957-cfa2-0640f13be7ee"
      },
      "execution_count": 62,
      "outputs": [
        {
          "output_type": "stream",
          "name": "stdout",
          "text": [
            "r1 = 3.1640625\n",
            "r01 = 3.16162109375\n",
            "f(r1) = 0.01129150390625\n",
            "f(r01) = -0.004152059555053711\n"
          ]
        }
      ]
    },
    {
      "cell_type": "markdown",
      "source": [
        "19.4 Newton-Raphson Method\n",
        "*   The Linear approximation of $f(x)$ around $x_0$ is $f(x) \\approx f(x_0) +f'(x_0)(x_1-x_0)$, which equates to $x_1=x_0-\\frac{f(x_0)}{f'(x_0)}$\n",
        "*   A **Newton step** computes an improved guess, $x_i$, using a previous guess $x_i-1$, and is given by the equation: $x_i=x_{i-1}-\\frac{g(x_{i-1})}{g'(x_{i-1})}$\n",
        "*   The **Newton-Raphson Method** of finding roots iterates Newton steps from $x_0$ until the error is less than the tolerance"
      ],
      "metadata": {
        "id": "KV_2VzaAHuM2"
      }
    },
    {
      "cell_type": "markdown",
      "source": [
        "Example (1) Use the Linear approximation equation for the computed root of function $f(x)=x^2-10$, where $x_0=3$\n",
        "\n",
        "$x=3-\\frac{3^2-10}{2(3)}=3.17$"
      ],
      "metadata": {
        "id": "j85QeHShJb4r"
      }
    },
    {
      "cell_type": "code",
      "source": [
        "import numpy as np\n",
        "\n",
        "f = lambda x: x**2 - 10\n",
        "f_prime = lambda x: 2*x\n",
        "newton_raphson = 3 - (f(3))/(f_prime(3))\n",
        "\n",
        "print(\"newton_raphson =\", newton_raphson)\n",
        "print(\"sqrt(10) =\", np.sqrt(10))"
      ],
      "metadata": {
        "colab": {
          "base_uri": "https://localhost:8080/"
        },
        "id": "O_SXq5JHLY5E",
        "outputId": "ff1d028a-0b3f-497c-c00f-06759ad33c47"
      },
      "execution_count": 67,
      "outputs": [
        {
          "output_type": "stream",
          "name": "stdout",
          "text": [
            "newton_raphson = 3.1666666666666665\n",
            "sqrt(10) = 3.1622776601683795\n"
          ]
        }
      ]
    },
    {
      "cell_type": "markdown",
      "source": [
        "Example (2) Compute $\\sqrt{10}$ to within tolerance of $e^{-6}$ starting at $x_0=3$"
      ],
      "metadata": {
        "id": "7h2r6SpbNKmi"
      }
    },
    {
      "cell_type": "code",
      "source": [
        "def my_newton(f, df, x0, tol):\n",
        "    # output is an estimation of the root of f\n",
        "    # using the Newton Raphson method\n",
        "    # recursive implementation\n",
        "    if abs(f(x0)) < tol:\n",
        "        return x0\n",
        "    else:\n",
        "        return my_newton(f, df, x0 - f(x0)/df(x0), tol)\n",
        "\n",
        "estimate = my_newton(f, f_prime, 3, 1e-6)\n",
        "print(\"estimate =\", estimate)\n",
        "print(\"sqrt(10) =\", np.sqrt(10))"
      ],
      "metadata": {
        "colab": {
          "base_uri": "https://localhost:8080/"
        },
        "id": "pI8VgV30NGyC",
        "outputId": "12dece8b-2ff3-4f3f-c31c-5083ec8609b6"
      },
      "execution_count": 68,
      "outputs": [
        {
          "output_type": "stream",
          "name": "stdout",
          "text": [
            "estimate = 3.1622776601698424\n",
            "sqrt(10) = 3.1622776601683795\n"
          ]
        }
      ]
    },
    {
      "cell_type": "markdown",
      "source": [
        "Limitations:\n",
        "*   If the derivative at a guess is close to 0, then the Newton step will be very large and probably lead far away from the root.\n",
        "*   Depending on the behavior of the function derivative between $x_0$\n",
        " and $x_r$, the Newton-Raphson method may converge to a different root than $x_r$ that may not be useful for our engineering application."
      ],
      "metadata": {
        "id": "mUvV_zK_OJ78"
      }
    },
    {
      "cell_type": "markdown",
      "source": [
        "Example (3) Compute a single Newton step to get an improved approximation of the root of the function $f(x)=x^3+3x^2-2x-5$ and an initial guess, $x_0=0.29$\n",
        "."
      ],
      "metadata": {
        "id": "3xTphFaLO4p2"
      }
    },
    {
      "cell_type": "code",
      "source": [
        "x0 = 0.29\n",
        "x1 = x0-(x0**3+3*x0**2-2*x0-5)/(3*x0**2+6*x0-2)\n",
        "print(\"x1 =\", x1)"
      ],
      "metadata": {
        "colab": {
          "base_uri": "https://localhost:8080/"
        },
        "id": "_XbdAzwIOtSA",
        "outputId": "86a4ef9b-8e07-49ec-dd2b-e73cc7e586d6"
      },
      "execution_count": 95,
      "outputs": [
        {
          "output_type": "stream",
          "name": "stdout",
          "text": [
            "x1 = -688.4516883116648\n"
          ]
        }
      ]
    }
  ]
}