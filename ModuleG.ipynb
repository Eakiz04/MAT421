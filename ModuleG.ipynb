{
  "nbformat": 4,
  "nbformat_minor": 0,
  "metadata": {
    "colab": {
      "provenance": [],
      "authorship_tag": "ABX9TyNrwOiPbRhQNwB1H5U0SVY9",
      "include_colab_link": true
    },
    "kernelspec": {
      "name": "python3",
      "display_name": "Python 3"
    },
    "language_info": {
      "name": "python"
    }
  },
  "cells": [
    {
      "cell_type": "markdown",
      "metadata": {
        "id": "view-in-github",
        "colab_type": "text"
      },
      "source": [
        "<a href=\"https://colab.research.google.com/github/Eakiz04/MAT421/blob/main/ModuleG.ipynb\" target=\"_parent\"><img src=\"https://colab.research.google.com/assets/colab-badge.svg\" alt=\"Open In Colab\"/></a>"
      ]
    },
    {
      "cell_type": "markdown",
      "source": [
        "Module G - Eric Kizior"
      ],
      "metadata": {
        "id": "qINExMXx0O8r"
      }
    },
    {
      "cell_type": "markdown",
      "source": [
        "21.1 - Numerical Integration Problem Statement\n",
        "*   To approximate the integral of $f(x)$ over the interval $[a,b]$, assume the interval has been discretized into a numerical grid, $x$, consisting of $n+1$ points with $h=\\frac{b-a}{n}$.\n",
        "*   Each point in $x$ is denoted by $x_i$ where $x_0=a$ and $x_n=b$\n",
        "*   The interval $[x_i, x_{i+1}]$ is referred to as a **subinterval**\n",
        "*   The following methods approximate $\\int_b^a f(x)dx$ by approximating the area under $f(x)$ for each subinterval by a shape to compute the exact area, then sums the areas of each"
      ],
      "metadata": {
        "id": "ZmOZoBbB0VhU"
      }
    },
    {
      "cell_type": "markdown",
      "source": [
        "21.2 - Riemanns Integral\n",
        "*   **Riemanns Integral:** Approximates integrals by summing the area of rectangles defined within each subinterval\n",
        "\n",
        "$\\hspace{5cm}\\int_a^bf(x)dx ≈ \\sum_{i=0}^{n-1}hf(x_i)$ (left end point), or\n",
        "\n",
        "$\\hspace{5cm}\\int_a^bf(x)dx ≈ \\sum_{i=1}^{n}hf(x_i)$ (right end point)\n",
        "* Rectangles with width $h=x_{i+1}-x_i$, with hight defined by a function value $f(x)$ for some $x$ in the subinterval\n",
        "   *  Best choice for height is the function value at the left or right endpoints, $x_i$ or $x_{i+1}$, since they are usable even if $f(x)$ is not known\n",
        "*   **Midpoint Rule:** Takes the rectangle height at each subinterval to be the function value at the midpoint between $x_i$ and $x_{i+1}$, which is denoted by $y_i=\\frac{x_{i+1}+x_i}{2}$\n",
        "\n",
        "$\\hspace{5cm}\\int_a^bf(x)dx ≈ \\sum_{i=0}^{n-1}hf(y_i)$"
      ],
      "metadata": {
        "id": "eqv6zxGQ2VVI"
      }
    },
    {
      "cell_type": "markdown",
      "source": [
        "Example 1: Use Left Riemann Integral, Right Riemann Integral, and Midpoint Rule to approximate: $\\int_{-\\pi}^{2\\pi/3}cos(x)dx$"
      ],
      "metadata": {
        "id": "-jk1ZQdR6oG8"
      }
    },
    {
      "cell_type": "code",
      "source": [
        "import numpy as np\n",
        "\n",
        "# Set up Integral\n",
        "a = -np.pi\n",
        "b = (2*np.pi) / 3\n",
        "\n",
        "# Use 25 Spcaes\n",
        "n = 25\n",
        "h = (b - a) / (n - 1)\n",
        "x = np.linspace(a, b, n)\n",
        "\n",
        "# Create f(x)\n",
        "f = np.cos(x)\n",
        "\n",
        "# Compute Left Riemann Integral\n",
        "I_riemannL = h * sum(f[:n-1])\n",
        "err_riemannL = 0.866 - I_riemannL\n",
        "\n",
        "# Compute Right Riemann Integral\n",
        "I_riemannR = h * sum(f[1::])\n",
        "err_riemannR = 0.866 - I_riemannR\n",
        "\n",
        "# Compute Midpoint Rule\n",
        "I_mid = h * sum(np.cos((x[:n-1] \\\n",
        "        + x[1:])/2))\n",
        "err_mid = 0.866 - I_mid\n",
        "\n",
        "# Print Results\n",
        "print(f\"Left Riemann: {I_riemannL}\")\n",
        "print(f\"Error: {err_riemannL}\")\n",
        "\n",
        "print(f\"Right Riemann: {I_riemannR}\")\n",
        "print(f\"Error: {err_riemannR}\")\n",
        "\n",
        "print(f\"Midpoint Rule: {I_mid}\")\n",
        "print(f\"Error: {err_mid}\")"
      ],
      "metadata": {
        "colab": {
          "base_uri": "https://localhost:8080/"
        },
        "id": "AVBTUQJ47ILS",
        "outputId": "c840aa67-8e6f-4998-d4be-5e21d7cee1b0"
      },
      "execution_count": 9,
      "outputs": [
        {
          "output_type": "stream",
          "name": "stdout",
          "text": [
            "Left Riemann: 0.8080461572074497\n",
            "Error: 0.057953842792550336\n",
            "Right Riemann: 0.9171292354570953\n",
            "Error: -0.05112923545709536\n",
            "Midpoint Rule: 0.8677452807904692\n",
            "Error: -0.0017452807904692058\n"
          ]
        }
      ]
    },
    {
      "cell_type": "markdown",
      "source": [
        "21.3 - Trapezoid Rule\n",
        "*   **Trapezoid Rule:** Fits a trapezoid into each subinterval and sums the areas of the trapezoid to approximate the total integral. For each subinterval, the Trapezoid Rule computes the area of a trapezoid with corners at $(x_i,0),(x_{i+1},0),(x_i,f(x_i)),$ and $(x_{i+1},f(x_{i+1}))$, which is $h \\frac{f(x_i)+f(x_{i+1})}{2}$.\n",
        "\n",
        "$\\hspace{5cm}\\int_a^bf(x)dx ≈ \\sum_{i=0}^{n-1}h \\frac{f(x_i)+f(x_{i+1})}{2}$\n"
      ],
      "metadata": {
        "id": "I1W20UDW-RXl"
      }
    },
    {
      "cell_type": "markdown",
      "source": [
        "Example 2: Use the Trapezoid Rule to approximate: $\\int_{-\\pi}^{2\\pi/3}cos(x)dx$"
      ],
      "metadata": {
        "id": "5ZxQ87V8_wBU"
      }
    },
    {
      "cell_type": "code",
      "source": [
        "import numpy as np\n",
        "\n",
        "# Set up Integral\n",
        "a = -np.pi\n",
        "b = (2*np.pi) / 3\n",
        "\n",
        "# Use 25 Spcaes\n",
        "n = 25\n",
        "h = (b - a) / (n - 1)\n",
        "x = np.linspace(a, b, n)\n",
        "\n",
        "# Create f(x)\n",
        "f = np.cos(x)\n",
        "\n",
        "I_trap = (h/2)*(f[0] + \\\n",
        "          2 * sum(f[1:n-1]) + f[n-1])\n",
        "err_trap = 0.866 - I_trap\n",
        "\n",
        "# Print Results\n",
        "print(f\"Trapezoid Rule: {I_trap}\")\n",
        "print(f\"Error: {err_trap}\")\n"
      ],
      "metadata": {
        "colab": {
          "base_uri": "https://localhost:8080/"
        },
        "id": "Rrsa83p7_vSV",
        "outputId": "5c157063-a393-4d9f-9eb1-02e98e88aa0f"
      },
      "execution_count": 10,
      "outputs": [
        {
          "output_type": "stream",
          "name": "stdout",
          "text": [
            "Trapezoid Rule: 0.8625876963322725\n",
            "Error: 1.1374123036677275\n"
          ]
        }
      ]
    }
  ]
}