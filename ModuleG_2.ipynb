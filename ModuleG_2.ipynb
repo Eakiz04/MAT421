{
  "nbformat": 4,
  "nbformat_minor": 0,
  "metadata": {
    "colab": {
      "provenance": [],
      "authorship_tag": "ABX9TyP080P/ws1QeG1Pd4iwsvOq",
      "include_colab_link": true
    },
    "kernelspec": {
      "name": "python3",
      "display_name": "Python 3"
    },
    "language_info": {
      "name": "python"
    }
  },
  "cells": [
    {
      "cell_type": "markdown",
      "metadata": {
        "id": "view-in-github",
        "colab_type": "text"
      },
      "source": [
        "<a href=\"https://colab.research.google.com/github/Eakiz04/MAT421/blob/main/ModuleG_2.ipynb\" target=\"_parent\"><img src=\"https://colab.research.google.com/assets/colab-badge.svg\" alt=\"Open In Colab\"/></a>"
      ]
    },
    {
      "cell_type": "markdown",
      "source": [
        "Module G (Simpson's Rule) - Eric Kizior"
      ],
      "metadata": {
        "id": "DmLMpd5qGCtl"
      }
    },
    {
      "cell_type": "markdown",
      "source": [
        "21.4 - Simpson's Rule"
      ],
      "metadata": {
        "id": "Lay-nMe6GLgc"
      }
    },
    {
      "cell_type": "markdown",
      "source": [
        "*   Consider two consecutive subintervals, $[x_{i-1},x_i]$ and $[x_i,x_{i+1}]$\n",
        "*   **Simpson's Rule:** approximates the area under $f(x)$ over these two subintervals by fitting a quadratic polynomial through the points $(x_{i-1}, f(x_{i-1})), (x_i, f(x_i)),$ and $(x_{i+1}, f(x_{i+1}))$, then integrating the quadratic\n",
        "*   We construct the quadratic polynomial approximation of the function over the two subintervals. The easiest way to do this is to use Lagrange polynomials\n",
        "\n",
        "$P_i(x) = f(x_{i-1}) \\frac{(x-x_i)(x-x_{i+1})}{(x_{i-1}-x_i)(x_{i-1}-x_{i+1})} + f(x_i) \\frac{(x-x_{i-1})(x-x_{i+1})}{(x_{i}-x_{i-1})(x_{i}-x_{i+1})} + f(x_{i+1}) \\frac{(x-x_{i-1})(x-x_{i})}{(x_{i+1}-x_{i-1})(x_{i+1}-x_{i})}$\n",
        "\n",
        "\n",
        "*   substitutions for h results in:\n",
        "\n",
        "$P_i(x) = \\frac{f(x_{i-1})}{2h^2} (x-x_i)(x-x_{i+1}) - \\frac{f(x_i)}{h^2} (x-x_{i-1})(x-x_{i+1}) + \\frac{f(x_{i+1})}{2h^2} (x-x_{i-1})(x-x_{i})$\n",
        "\n",
        "*   With some algebra and manipulation, the integral of $P_i(x)$ over the two subintervals is\n",
        "\n",
        "$\\int_{x_{i-1}}^{x_{i+1}} P_i(x)dx = \\frac{h}{3} (f(x_{i-1}) + 4f(x_i) + f(x_{i+1}))$\n",
        "\n",
        "*   Note that to use Simpson's Rule, you must have an even number of intervals and, therefore, an odd number of grid points"
      ],
      "metadata": {
        "id": "uz-y4VrAGWHP"
      }
    },
    {
      "cell_type": "markdown",
      "source": [
        "Example: Use Simpson's Rule to approximate $\\int_{-\\pi/2}^{\\pi} cos(x)dx$ with 13 evenly spaced grid points. Compare with exact value of 1"
      ],
      "metadata": {
        "id": "FbqDy-xiKSAl"
      }
    },
    {
      "cell_type": "code",
      "source": [
        "import numpy as np\n",
        "\n",
        "a = -np.pi/2\n",
        "b = np.pi\n",
        "n = 13\n",
        "h = (b - a) / (n - 1)\n",
        "x = np.linspace(a, b, n)\n",
        "f = np.cos(x)\n",
        "\n",
        "I_simp = (h/3) * (f[0] + 2*sum(f[:n-2:2]) \\\n",
        "            + 4*sum(f[1:n-1:2]) + f[n-1])\n",
        "err_simp = 1 - I_simp\n",
        "\n",
        "print(I_simp)\n",
        "print(err_simp)"
      ],
      "metadata": {
        "colab": {
          "base_uri": "https://localhost:8080/"
        },
        "id": "cBFR1ETsLF3_",
        "outputId": "f6f2e3ea-eebf-49aa-c13e-c670d4c5aa09"
      },
      "execution_count": 4,
      "outputs": [
        {
          "output_type": "stream",
          "name": "stdout",
          "text": [
            "1.000134584974194\n",
            "-0.0001345849741940519\n"
          ]
        }
      ]
    }
  ]
}